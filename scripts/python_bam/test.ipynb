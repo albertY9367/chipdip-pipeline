{
 "cells": [
  {
   "cell_type": "code",
   "execution_count": 9,
   "metadata": {},
   "outputs": [],
   "source": [
    "import merge_bam\n",
    "import pysam\n",
    "\n",
    "in_file1 = \"/home/zyang4/chipdip-pipeline/workup/alignments/sample1.merged.BPM.bam\"\n",
    "# in_file2 = \"/home/zyang4/chipdip-pipeline/workup/alignments/sample2.merged.BPM.bam\"\n",
    "in_file3 = \"/home/zyang4/chipdip-pipeline/workup/alignments/sample1.DNA.merged.bam\"\n",
    "# in_file4 = \"/home/zyang4/chipdip-pipeline/workup/alignments/sample2.DNA.merged.bam\"\n",
    "outfile1 = \"samp1.bam\"\n",
    "# outfile2 = \"samp2.bam\"\n",
    "\n",
    "# pysam.merge(\"-f\", \"-o\", outfile1, in_file1, in_file3)\n",
    "# pysam.merge(\"-f\", \"-o\", outfile2, in_file2, in_file4)"
   ]
  },
  {
   "cell_type": "code",
   "execution_count": 11,
   "metadata": {},
   "outputs": [
    {
     "name": "stdout",
     "output_type": "stream",
     "text": [
      "Total reads: 544\n",
      "Reads written: 509\n",
      "Duplicate reads: 35\n",
      "Reads with an error not written out: 0\n"
     ]
    },
    {
     "name": "stderr",
     "output_type": "stream",
     "text": [
      "[E::idx_find_and_load] Could not retrieve index file for '/home/zyang4/chipdip-pipeline/workup/alignments/sample2.DNA.merged.bam'\n"
     ]
    }
   ],
   "source": [
    "merge_bam.label_bam_file(\"/home/zyang4/chipdip-pipeline/workup/alignments/sample2.DNA.merged.bam\", \"samp2dna_tagged.bam\", 7)"
   ]
  },
  {
   "cell_type": "code",
   "execution_count": 3,
   "metadata": {},
   "outputs": [
    {
     "name": "stdout",
     "output_type": "stream",
     "text": [
      "out @[BEAD_AB1-A1][OddBot_22-B10][EvenBot_22-B10][OddBot_43-D7][EvenBot_36-C12][OddBot_51-E3][NYStgBot_1-A1]_TCCCTAGT::[BEAD_AB1-A1][NYStgBot_1-A1][OddBot_51-E3][EvenBot_36-C12][OddBot_43-D7][EvenBot_22-B10][OddBot_22-B10]\t0\t#0\t42224135\t0\t66M\t*\t0\t0\tTCCCTAGTCAAGTCAAGTTGTCAGATAGGTTGAGAGCCACAAGTCAAAGCCACATATTCATATAGT\tNone\t[('RT', 'BEAD'), ('BC', 'NYStgBot_1-A1.OddBot_51-E3.EvenBot_36-C12.OddBot_43-D7.EvenBot_22-B10.OddBot_22-B10'), ('FC', 'BEAD_AB1-A1.NYStgBot_1-A1.OddBot_51-E3.EvenBot_36-C12.OddBot_43-D7.EvenBot_22-B10.OddBot_22-B10')]\n",
      "out @[BEAD_AB1-A1][OddBot_22-B10][EvenBot_22-B10][OddBot_43-D7][EvenBot_36-C12][OddBot_51-E3][NYStgBot_1-A1]_TCGCGCTG::[BEAD_AB1-A1][NYStgBot_1-A1][OddBot_51-E3][EvenBot_36-C12][OddBot_43-D7][EvenBot_22-B10][OddBot_22-B10]\t0\t#0\t42323244\t0\t64M\t*\t0\t0\tTCGCGCTGCAAGTCAAAGTCTGGTGCTTGGTCAGTTGTCAGATAGGTTCAGAGCCACAAGTCAA\tNone\t[('RT', 'BEAD'), ('BC', 'NYStgBot_1-A1.OddBot_51-E3.EvenBot_36-C12.OddBot_43-D7.EvenBot_22-B10.OddBot_22-B10'), ('FC', 'BEAD_AB1-A1.NYStgBot_1-A1.OddBot_51-E3.EvenBot_36-C12.OddBot_43-D7.EvenBot_22-B10.OddBot_22-B10')]\n",
      "out [DPMBot6_86-H2][OddBot_22-B10][EvenBot_22-B10][OddBot_43-D7][EvenBot_36-C12][OddBot_51-E3][NYStgBot_1-A1]_chr19:10598139-10598583::[DPMBot6_86-H2][NYStgBot_1-A1][OddBot_51-E3][EvenBot_36-C12][OddBot_43-D7][EvenBot_22-B10][OddBot_22-B10]\t0\t#114\t10598140\t40\t65M\t*\t0\t0\tCAGAAACAAGCTCCAGTCCAACAGGTACAGGGGGATCTGATGTTTGCAGAGCAATGGGAGGAGGG\tarray('B', [30, 30, 30, 30, 30, 30, 30, 30, 30, 30, 30, 30, 30, 30, 30, 30, 30, 30, 30, 30, 30, 30, 30, 30, 30, 30, 30, 30, 30, 30, 30, 30, 30, 30, 30, 30, 30, 30, 30, 30, 30, 30, 30, 30, 30, 30, 30, 30, 30, 30, 30, 30, 30, 30, 30, 30, 30, 30, 30, 30, 30, 30, 30, 30, 30])\t[('AS', -10), ('XN', 0), ('XM', 2), ('XO', 0), ('XG', 0), ('NM', 2), ('MD', '53T6A4'), ('YT', 'UU'), ('RT', 'DPM'), ('BC', 'NYStgBot_1-A1.OddBot_51-E3.EvenBot_36-C12.OddBot_43-D7.EvenBot_22-B10.OddBot_22-B10'), ('FC', 'DPMBot6_86-H2.NYStgBot_1-A1.OddBot_51-E3.EvenBot_36-C12.OddBot_43-D7.EvenBot_22-B10.OddBot_22-B10')]\n",
      "out [DPMBot6_86-H2][OddBot_22-B10][EvenBot_22-B10][OddBot_43-D7][EvenBot_36-C12][OddBot_51-E3][NYStgBot_1-A1]_chr19:40769417-40769861::[DPMBot6_86-H2][NYStgBot_1-A1][OddBot_51-E3][EvenBot_36-C12][OddBot_43-D7][EvenBot_22-B10][OddBot_22-B10]\t0\t#114\t40769418\t42\t64M\t*\t0\t0\tACAGTGTAAGCATCAGAGTTTACTTACTGAGGCTTCTGATTCCTCTCTAGGGAGCACATCTGAT\tarray('B', [30, 30, 30, 30, 30, 30, 30, 30, 30, 30, 30, 30, 30, 30, 30, 30, 30, 30, 30, 30, 30, 30, 30, 30, 30, 30, 30, 30, 30, 30, 30, 30, 30, 30, 30, 30, 30, 30, 30, 30, 30, 30, 30, 30, 30, 30, 30, 30, 30, 30, 30, 30, 30, 30, 30, 30, 30, 30, 30, 30, 30, 30, 30, 30])\t[('AS', 0), ('XN', 0), ('XM', 0), ('XO', 0), ('XG', 0), ('NM', 0), ('MD', '64'), ('YT', 'UU'), ('RT', 'DPM'), ('BC', 'NYStgBot_1-A1.OddBot_51-E3.EvenBot_36-C12.OddBot_43-D7.EvenBot_22-B10.OddBot_22-B10'), ('FC', 'DPMBot6_86-H2.NYStgBot_1-A1.OddBot_51-E3.EvenBot_36-C12.OddBot_43-D7.EvenBot_22-B10.OddBot_22-B10')]\n",
      "out @[BEAD_AB1-A1][OddBot_11-A11][EvenBot_8-A8][OddBot_42-D6][EvenBot_45-D9][OddBot_58-E10][NYStgBot_1-A1]_GTGATACA::[BEAD_AB1-A1][NYStgBot_1-A1][OddBot_58-E10][EvenBot_45-D9][OddBot_42-D6][EvenBot_8-A8][OddBot_11-A11]\t0\t#0\t34314122\t0\t66M\t*\t0\t0\tGTGATACACAAGTCAAAGGTGAAGTGCCACTAAGTTGTCAGCATCACTACGCAACACAAGTCAAAC\tNone\t[('RT', 'BEAD'), ('BC', 'NYStgBot_1-A1.OddBot_58-E10.EvenBot_45-D9.OddBot_42-D6.EvenBot_8-A8.OddBot_11-A11'), ('FC', 'BEAD_AB1-A1.NYStgBot_1-A1.OddBot_58-E10.EvenBot_45-D9.OddBot_42-D6.EvenBot_8-A8.OddBot_11-A11')]\n",
      "out @[BEAD_AB1-A1][OddBot_11-A11][EvenBot_8-A8][OddBot_42-D6][EvenBot_45-D9][OddBot_58-E10][NYStgBot_1-A1]_GTGGTCTT::[BEAD_AB1-A1][NYStgBot_1-A1][OddBot_58-E10][EvenBot_45-D9][OddBot_42-D6][EvenBot_8-A8][OddBot_11-A11]\t0\t#0\t34334245\t0\t66M\t*\t0\t0\tGTGGTCTTCAAGTCAAAGGTGAAGTGCCACTAAGTTGTCAGCATCACTACGCAACACAAGTCAAGC\tNone\t[('RT', 'BEAD'), ('BC', 'NYStgBot_1-A1.OddBot_58-E10.EvenBot_45-D9.OddBot_42-D6.EvenBot_8-A8.OddBot_11-A11'), ('FC', 'BEAD_AB1-A1.NYStgBot_1-A1.OddBot_58-E10.EvenBot_45-D9.OddBot_42-D6.EvenBot_8-A8.OddBot_11-A11')]\n",
      "out @[BEAD_AB1-A1][OddBot_11-A11][EvenBot_8-A8][OddBot_42-D6][EvenBot_45-D9][OddBot_58-E10][NYStgBot_1-A1]_TTACCAAG::[BEAD_AB1-A1][NYStgBot_1-A1][OddBot_58-E10][EvenBot_45-D9][OddBot_42-D6][EvenBot_8-A8][OddBot_11-A11]\t0\t#0\t44122114\t0\t66M\t*\t0\t0\tTTACCAAGCAAGTCAAAGGTGAAGTGCCACTACAAGTCAAACTGACGTAATGAACGAGTTGTCACG\tNone\t[('RT', 'BEAD'), ('BC', 'NYStgBot_1-A1.OddBot_58-E10.EvenBot_45-D9.OddBot_42-D6.EvenBot_8-A8.OddBot_11-A11'), ('FC', 'BEAD_AB1-A1.NYStgBot_1-A1.OddBot_58-E10.EvenBot_45-D9.OddBot_42-D6.EvenBot_8-A8.OddBot_11-A11')]\n",
      "out @[BEAD_AB1-A1][OddBot_11-A11][EvenBot_8-A8][OddBot_42-D6][EvenBot_45-D9][OddBot_58-E10][NYStgBot_1-A1]_TTTTATAA::[BEAD_AB1-A1][NYStgBot_1-A1][OddBot_58-E10][EvenBot_45-D9][OddBot_42-D6][EvenBot_8-A8][OddBot_11-A11]\t0\t#0\t44441412\t0\t66M\t*\t0\t0\tTTTTATAACAAGTCAAAGGTGAAGTGCCACTAAGTTGTCAGCACCACTGCGCAACACAAGTCAAAC\tNone\t[('RT', 'BEAD'), ('BC', 'NYStgBot_1-A1.OddBot_58-E10.EvenBot_45-D9.OddBot_42-D6.EvenBot_8-A8.OddBot_11-A11'), ('FC', 'BEAD_AB1-A1.NYStgBot_1-A1.OddBot_58-E10.EvenBot_45-D9.OddBot_42-D6.EvenBot_8-A8.OddBot_11-A11')]\n",
      "out @[BEAD_AB1-A1][OddBot_21-B9][EvenBot_19-B7][OddBot_44-D8][EvenBot_46-D10][OddBot_65-F5][NYStgBot_1-A1]_GCTAGGTA::[BEAD_AB1-A1][NYStgBot_1-A1][OddBot_65-F5][EvenBot_46-D10][OddBot_44-D8][EvenBot_19-B7][OddBot_21-B9]\t0\t#0\t32413342\t0\t64M\t*\t0\t0\tGCTAGGTACAAGTCAAATGAGCGGTGCTATCCAGTTGTCACCACTGAGAATCCGCCCAAGTCAA\tNone\t[('RT', 'BEAD'), ('BC', 'NYStgBot_1-A1.OddBot_65-F5.EvenBot_46-D10.OddBot_44-D8.EvenBot_19-B7.OddBot_21-B9'), ('FC', 'BEAD_AB1-A1.NYStgBot_1-A1.OddBot_65-F5.EvenBot_46-D10.OddBot_44-D8.EvenBot_19-B7.OddBot_21-B9')]\n",
      "out @[BEAD_AB1-A1][OddBot_21-B9][EvenBot_19-B7][OddBot_44-D8][EvenBot_46-D10][OddBot_65-F5][NYStgBot_1-A1]_TACAGCTG::[BEAD_AB1-A1][NYStgBot_1-A1][OddBot_65-F5][EvenBot_46-D10][OddBot_44-D8][EvenBot_19-B7][OddBot_21-B9]\t0\t#0\t41213244\t0\t64M\t*\t0\t0\tTACAGCTGCAAGTCAAATGAACGGTGCTATCCAGTTGTCACCACTGAGAATCAGCCCAAGTCAA\tNone\t[('RT', 'BEAD'), ('BC', 'NYStgBot_1-A1.OddBot_65-F5.EvenBot_46-D10.OddBot_44-D8.EvenBot_19-B7.OddBot_21-B9'), ('FC', 'BEAD_AB1-A1.NYStgBot_1-A1.OddBot_65-F5.EvenBot_46-D10.OddBot_44-D8.EvenBot_19-B7.OddBot_21-B9')]\n",
      "out [DPMBot6_17-B5][OddBot_21-B9][EvenBot_19-B7][OddBot_44-D8][EvenBot_46-D10][OddBot_65-F5][NYStgBot_1-A1]_chr19:53153141-53153585::[DPMBot6_17-B5][NYStgBot_1-A1][OddBot_65-F5][EvenBot_46-D10][OddBot_44-D8][EvenBot_19-B7][OddBot_21-B9]\t0\t#114\t53153142\t42\t64M\t*\t0\t0\tAGAATGACAGTATGATACCTCACTAAGTATATGAAGTCACAGGTGGCCTGTGAACAAAGAGGTG\tarray('B', [30, 30, 30, 30, 30, 30, 30, 30, 30, 30, 30, 30, 30, 30, 30, 30, 30, 30, 30, 30, 30, 30, 30, 30, 30, 30, 30, 30, 30, 30, 30, 30, 30, 30, 30, 30, 30, 30, 30, 30, 30, 30, 30, 30, 30, 30, 30, 30, 30, 30, 30, 30, 30, 30, 30, 30, 30, 30, 30, 30, 30, 30, 30, 30])\t[('AS', 0), ('XN', 0), ('XM', 0), ('XO', 0), ('XG', 0), ('NM', 0), ('MD', '64'), ('YT', 'UU'), ('RT', 'DPM'), ('BC', 'NYStgBot_1-A1.OddBot_65-F5.EvenBot_46-D10.OddBot_44-D8.EvenBot_19-B7.OddBot_21-B9'), ('FC', 'DPMBot6_17-B5.NYStgBot_1-A1.OddBot_65-F5.EvenBot_46-D10.OddBot_44-D8.EvenBot_19-B7.OddBot_21-B9')]\n",
      "out @[BEAD_AB2-A2][OddBot_23-B11][EvenBot_17-B5][OddBot_35-C11][EvenBot_35-C11][OddBot_70-F10][NYStgBot_1-A1]_CAGAGCGC::[BEAD_AB2-A2][NYStgBot_1-A1][OddBot_70-F10][EvenBot_35-C11][OddBot_35-C11][EvenBot_17-B5][OddBot_23-B11]\t0\t#1\t21313233\t0\t66M\t*\t0\t0\tCAGAGCGCCAAGTCAAAGTAGCATAGGAAGGTAGTTGTCAGAACATCTAGGAGCGTCAAGTCAAAC\tNone\t[('RT', 'BEAD'), ('BC', 'NYStgBot_1-A1.OddBot_70-F10.EvenBot_35-C11.OddBot_35-C11.EvenBot_17-B5.OddBot_23-B11'), ('FC', 'BEAD_AB2-A2.NYStgBot_1-A1.OddBot_70-F10.EvenBot_35-C11.OddBot_35-C11.EvenBot_17-B5.OddBot_23-B11')]\n",
      "out @[BEAD_AB2-A2][OddBot_23-B11][EvenBot_17-B5][OddBot_35-C11][EvenBot_35-C11][OddBot_70-F10][NYStgBot_1-A1]_GCGTTTGT::[BEAD_AB2-A2][NYStgBot_1-A1][OddBot_70-F10][EvenBot_35-C11][OddBot_35-C11][EvenBot_17-B5][OddBot_23-B11]\t0\t#1\t32344435\t0\t66M\t*\t0\t0\tGCGTTTGTCAAGTCAAAGTAGCATAGGAAGGTAGTTGTCAGAACATCTAGGAGCGTCAAGTCAAAC\tNone\t[('RT', 'BEAD'), ('BC', 'NYStgBot_1-A1.OddBot_70-F10.EvenBot_35-C11.OddBot_35-C11.EvenBot_17-B5.OddBot_23-B11'), ('FC', 'BEAD_AB2-A2.NYStgBot_1-A1.OddBot_70-F10.EvenBot_35-C11.OddBot_35-C11.EvenBot_17-B5.OddBot_23-B11')]\n",
      "out @[BEAD_AB2-A2][OddBot_23-B11][EvenBot_17-B5][OddBot_35-C11][EvenBot_35-C11][OddBot_70-F10][NYStgBot_1-A1]_TCCGAACT::[BEAD_AB2-A2][NYStgBot_1-A1][OddBot_70-F10][EvenBot_35-C11][OddBot_35-C11][EvenBot_17-B5][OddBot_23-B11]\t0\t#1\t42231125\t0\t66M\t*\t0\t0\tTCCGAACTCAAGTCAAAGTAGCATAGGAAGGTAGTTGTCAGAACATCTAGGAGCGTCAAGTCAAAC\tNone\t[('RT', 'BEAD'), ('BC', 'NYStgBot_1-A1.OddBot_70-F10.EvenBot_35-C11.OddBot_35-C11.EvenBot_17-B5.OddBot_23-B11'), ('FC', 'BEAD_AB2-A2.NYStgBot_1-A1.OddBot_70-F10.EvenBot_35-C11.OddBot_35-C11.EvenBot_17-B5.OddBot_23-B11')]\n",
      "out [DPMBot6_83-G11][OddBot_23-B11][EvenBot_17-B5][OddBot_35-C11][EvenBot_35-C11][OddBot_70-F10][NYStgBot_1-A1]_chr19:4756482-4756786::[DPMBot6_83-G11][NYStgBot_1-A1][OddBot_70-F10][EvenBot_35-C11][OddBot_35-C11][EvenBot_17-B5][OddBot_23-B11]\t0\t#114\t4756483\t42\t65M\t*\t0\t0\tCCGCAGGATTGGTCGCCCCGCTCCTGCGAGGGGGAGGGGAGGCAGGCAGCGCGCACTCGCGCGTG\tarray('B', [30, 30, 30, 30, 30, 30, 30, 30, 30, 30, 30, 30, 30, 30, 30, 30, 30, 30, 30, 30, 30, 30, 30, 30, 30, 30, 30, 30, 30, 30, 30, 30, 30, 30, 30, 30, 30, 30, 30, 30, 30, 30, 30, 30, 30, 30, 30, 30, 30, 30, 30, 30, 30, 30, 30, 30, 30, 30, 30, 30, 30, 30, 30, 30, 30])\t[('AS', 0), ('XN', 0), ('XM', 0), ('XO', 0), ('XG', 0), ('NM', 0), ('MD', '65'), ('YT', 'UU'), ('RT', 'DPM'), ('BC', 'NYStgBot_1-A1.OddBot_70-F10.EvenBot_35-C11.OddBot_35-C11.EvenBot_17-B5.OddBot_23-B11'), ('FC', 'DPMBot6_83-G11.NYStgBot_1-A1.OddBot_70-F10.EvenBot_35-C11.OddBot_35-C11.EvenBot_17-B5.OddBot_23-B11')]\n",
      "out [DPMBot6_83-G11][OddBot_23-B11][EvenBot_17-B5][OddBot_35-C11][EvenBot_35-C11][OddBot_70-F10][NYStgBot_1-A1]_chr19:21407468-21407658::[DPMBot6_83-G11][NYStgBot_1-A1][OddBot_70-F10][EvenBot_35-C11][OddBot_35-C11][EvenBot_17-B5][OddBot_23-B11]\t0\t#114\t21407469\t42\t64M\t*\t0\t0\tAAGGGTTGTTGCTTGGGAGACTGTTTTCTTTAGGCTTCTATTTACTGTGATAAAGACCATGACC\tarray('B', [30, 30, 30, 30, 30, 30, 30, 30, 30, 30, 30, 30, 30, 30, 30, 30, 30, 30, 30, 30, 30, 30, 30, 30, 30, 30, 30, 30, 30, 30, 30, 30, 30, 30, 30, 30, 30, 30, 30, 30, 30, 30, 30, 30, 30, 30, 30, 30, 30, 30, 30, 30, 30, 30, 30, 30, 30, 30, 30, 30, 30, 30, 30, 30])\t[('AS', -5), ('XN', 0), ('XM', 1), ('XO', 0), ('XG', 0), ('NM', 1), ('MD', '2A61'), ('YT', 'UU'), ('RT', 'DPM'), ('BC', 'NYStgBot_1-A1.OddBot_70-F10.EvenBot_35-C11.OddBot_35-C11.EvenBot_17-B5.OddBot_23-B11'), ('FC', 'DPMBot6_83-G11.NYStgBot_1-A1.OddBot_70-F10.EvenBot_35-C11.OddBot_35-C11.EvenBot_17-B5.OddBot_23-B11')]\n",
      "out [DPMBot6_83-G11][OddBot_23-B11][EvenBot_17-B5][OddBot_35-C11][EvenBot_35-C11][OddBot_70-F10][NYStgBot_1-A1]_chr19:44197145-44197296::[DPMBot6_83-G11][NYStgBot_1-A1][OddBot_70-F10][EvenBot_35-C11][OddBot_35-C11][EvenBot_17-B5][OddBot_23-B11]\t0\t#114\t44197146\t42\t64M\t*\t0\t0\tTGGAAAGGTAGCTGTGAAGTCTGGAAATGCACCAGGTTACAGTCATGTGTGCTTTGGACGCCAA\tarray('B', [30, 30, 30, 30, 30, 30, 30, 30, 30, 30, 30, 30, 30, 30, 30, 30, 30, 30, 30, 30, 30, 30, 30, 30, 30, 30, 30, 30, 30, 30, 30, 30, 30, 30, 30, 30, 30, 30, 30, 30, 30, 30, 30, 30, 30, 30, 30, 30, 30, 30, 30, 30, 30, 30, 30, 30, 30, 30, 30, 30, 30, 30, 30, 30])\t[('AS', -5), ('XN', 0), ('XM', 1), ('XO', 0), ('XG', 0), ('NM', 1), ('MD', '3C60'), ('YT', 'UU'), ('RT', 'DPM'), ('BC', 'NYStgBot_1-A1.OddBot_70-F10.EvenBot_35-C11.OddBot_35-C11.EvenBot_17-B5.OddBot_23-B11'), ('FC', 'DPMBot6_83-G11.NYStgBot_1-A1.OddBot_70-F10.EvenBot_35-C11.OddBot_35-C11.EvenBot_17-B5.OddBot_23-B11')]\n",
      "out [DPMBot6_83-G11][OddBot_23-B11][EvenBot_17-B5][OddBot_35-C11][EvenBot_35-C11][OddBot_70-F10][NYStgBot_1-A1]_chr19:46036472-46036776::[DPMBot6_83-G11][NYStgBot_1-A1][OddBot_70-F10][EvenBot_35-C11][OddBot_35-C11][EvenBot_17-B5][OddBot_23-B11]\t0\t#114\t46036473\t42\t64M\t*\t0\t0\tCCAGACAGTGGTAAACTAGAGGAGGGAGCTACTCTGAGGATCACCTCTCATCCTTTCAAAATCT\tarray('B', [30, 30, 30, 30, 30, 30, 30, 30, 30, 30, 30, 30, 30, 30, 30, 30, 30, 30, 30, 30, 30, 30, 30, 30, 30, 30, 30, 30, 30, 30, 30, 30, 30, 30, 30, 30, 30, 30, 30, 30, 30, 30, 30, 30, 30, 30, 30, 30, 30, 30, 30, 30, 30, 30, 30, 30, 30, 30, 30, 30, 30, 30, 30, 30])\t[('AS', 0), ('XN', 0), ('XM', 0), ('XO', 0), ('XG', 0), ('NM', 0), ('MD', '64'), ('YT', 'UU'), ('RT', 'DPM'), ('BC', 'NYStgBot_1-A1.OddBot_70-F10.EvenBot_35-C11.OddBot_35-C11.EvenBot_17-B5.OddBot_23-B11'), ('FC', 'DPMBot6_83-G11.NYStgBot_1-A1.OddBot_70-F10.EvenBot_35-C11.OddBot_35-C11.EvenBot_17-B5.OddBot_23-B11')]\n",
      "out @[BEAD_AB1-A1][OddBot_17-B5][EvenBot_11-A11][OddBot_33-C9][EvenBot_46-D10][OddBot_70-F10][NYStgBot_1-A1]_ATCTTCTG::[BEAD_AB1-A1][NYStgBot_1-A1][OddBot_70-F10][EvenBot_46-D10][OddBot_33-C9][EvenBot_11-A11][OddBot_17-B5]\t0\t#0\t14244244\t0\t64M\t*\t0\t0\tATCTTCTGCAAGTCAAGCGGCGTGGTATGATGAGTTGTCAGAATACGATGGTGTGCCAAGACAA\tNone\t[('RT', 'BEAD'), ('BC', 'NYStgBot_1-A1.OddBot_70-F10.EvenBot_46-D10.OddBot_33-C9.EvenBot_11-A11.OddBot_17-B5'), ('FC', 'BEAD_AB1-A1.NYStgBot_1-A1.OddBot_70-F10.EvenBot_46-D10.OddBot_33-C9.EvenBot_11-A11.OddBot_17-B5')]\n",
      "out @[BEAD_AB1-A1][OddBot_17-B5][EvenBot_11-A11][OddBot_33-C9][EvenBot_46-D10][OddBot_70-F10][NYStgBot_1-A1]_GCGCGACA::[BEAD_AB1-A1][NYStgBot_1-A1][OddBot_70-F10][EvenBot_46-D10][OddBot_33-C9][EvenBot_11-A11][OddBot_17-B5]\t0\t#0\t32323122\t0\t64M\t*\t0\t0\tGCGCGACACAAGTCAAGCGTCGTGGTATGATGAGTTGTCAGAATACGATGGTGTGCCAAGTCAA\tNone\t[('RT', 'BEAD'), ('BC', 'NYStgBot_1-A1.OddBot_70-F10.EvenBot_46-D10.OddBot_33-C9.EvenBot_11-A11.OddBot_17-B5'), ('FC', 'BEAD_AB1-A1.NYStgBot_1-A1.OddBot_70-F10.EvenBot_46-D10.OddBot_33-C9.EvenBot_11-A11.OddBot_17-B5')]\n",
      "out @[BEAD_AB1-A1][OddBot_17-B5][EvenBot_11-A11][OddBot_33-C9][EvenBot_46-D10][OddBot_70-F10][NYStgBot_1-A1]_GTAGTGGA::[BEAD_AB1-A1][NYStgBot_1-A1][OddBot_70-F10][EvenBot_46-D10][OddBot_33-C9][EvenBot_11-A11][OddBot_17-B5]\t0\t#0\t34134332\t0\t64M\t*\t0\t0\tGTAGTGGACAAGTCAAGCGGCGTGGTATGATGAGTTATCAGAATACGATGGTGTGCCAAGTCAA\tNone\t[('RT', 'BEAD'), ('BC', 'NYStgBot_1-A1.OddBot_70-F10.EvenBot_46-D10.OddBot_33-C9.EvenBot_11-A11.OddBot_17-B5'), ('FC', 'BEAD_AB1-A1.NYStgBot_1-A1.OddBot_70-F10.EvenBot_46-D10.OddBot_33-C9.EvenBot_11-A11.OddBot_17-B5')]\n"
     ]
    },
    {
     "name": "stderr",
     "output_type": "stream",
     "text": [
      "[E::idx_find_and_load] Could not retrieve index file for '/home/zyang4/chipdip-pipeline/workup/alignments/sample1.DNA.merged.bam'\n",
      "[E::idx_find_and_load] Could not retrieve index file for 'master_tagged2.bam'\n"
     ]
    }
   ],
   "source": [
    "import pysam\n",
    "\n",
    "in_file = \"/home/zyang4/chipdip-pipeline/workup/alignments/sample1.DNA.merged.bam\"\n",
    "out_file = \"master_tagged2.bam\"\n",
    "\n",
    "with pysam.AlignmentFile(in_file, \"rb\") as inbam, \\\n",
    "    pysam.AlignmentFile(out_file, \"rb\") as outbam:\n",
    "\n",
    "    count1, count2 = 0, 0\n",
    "    for outread in outbam.fetch(until_eof=True):\n",
    "        print('out', outread)\n",
    "        count2 += 1\n",
    "        if count2 > 20:\n",
    "            break"
   ]
  },
  {
   "cell_type": "code",
   "execution_count": 4,
   "metadata": {},
   "outputs": [
    {
     "name": "stdout",
     "output_type": "stream",
     "text": [
      "For bamfile  master_tagged2.bam\n",
      "Total number of clusters:  401\n",
      "Total number of BPM:  1461\n",
      "Total number of DPM:  985\n"
     ]
    },
    {
     "name": "stderr",
     "output_type": "stream",
     "text": [
      "[E::idx_find_and_load] Could not retrieve index file for 'master_tagged2.bam'\n"
     ]
    }
   ],
   "source": [
    "import generate_cluster_statistics as gen\n",
    "\n",
    "gen.count_statistics(\"master_tagged2.bam\")"
   ]
  },
  {
   "cell_type": "code",
   "execution_count": 12,
   "metadata": {},
   "outputs": [
    {
     "name": "stderr",
     "output_type": "stream",
     "text": [
      "[E::idx_find_and_load] Could not retrieve index file for '/home/zyang4/chipdip-pipeline/scripts/python_bam/test_files/samp1dna_tagged.bam'\n"
     ]
    },
    {
     "ename": "TypeError",
     "evalue": "unsupported operand type(s) for +=: 'collections.defaultdict' and 'int'",
     "output_type": "error",
     "traceback": [
      "\u001b[0;31m---------------------------------------------------------------------------\u001b[0m",
      "\u001b[0;31mTypeError\u001b[0m                                 Traceback (most recent call last)",
      "Cell \u001b[0;32mIn[12], line 6\u001b[0m\n\u001b[1;32m      4\u001b[0m outbam \u001b[38;5;241m=\u001b[39m \u001b[38;5;124m\"\u001b[39m\u001b[38;5;124m/home/zyang4/chipdip-pipeline/scripts/python_bam/test0513/sample1.DNA.merged.labeled.bam\u001b[39m\u001b[38;5;124m\"\u001b[39m\n\u001b[1;32m      5\u001b[0m test_dir \u001b[38;5;241m=\u001b[39m \u001b[38;5;124m\"\u001b[39m\u001b[38;5;124m/home/zyang4/chipdip-pipeline/scripts/python_bam/test0513/\u001b[39m\u001b[38;5;124m\"\u001b[39m\n\u001b[0;32m----> 6\u001b[0m RG_dict \u001b[38;5;241m=\u001b[39m \u001b[43massign_labels\u001b[49m\u001b[43m(\u001b[49m\u001b[43mbamfile\u001b[49m\u001b[43m,\u001b[49m\u001b[43m \u001b[49m\u001b[38;5;241;43m2\u001b[39;49m\u001b[43m,\u001b[49m\u001b[43m \u001b[49m\u001b[38;5;241;43m0.8\u001b[39;49m\u001b[43m,\u001b[49m\u001b[43m \u001b[49m\u001b[38;5;241;43m10000\u001b[39;49m\u001b[43m)\u001b[49m\n\u001b[1;32m      7\u001b[0m label_bam_file(bamfile, outbam, RG_dict)\n\u001b[1;32m      8\u001b[0m split_bam_by_RG(outbam, test_dir)\n",
      "File \u001b[0;32m/central/home/zyang4/chipdip-pipeline/scripts/python_bam/threshold_tag_and_split.py:105\u001b[0m, in \u001b[0;36massign_labels\u001b[0;34m(bamfile, min_oligos, threshold, max_size)\u001b[0m\n\u001b[1;32m    103\u001b[0m     \u001b[38;5;28;01mcontinue\u001b[39;00m\n\u001b[1;32m    104\u001b[0m bead_labels \u001b[38;5;241m=\u001b[39m Counter(beads_dict[bc])\n\u001b[0;32m--> 105\u001b[0m candidate \u001b[38;5;241m=\u001b[39m bead_labels\u001b[38;5;241m.\u001b[39mmost_common()[\u001b[38;5;241m0\u001b[39m]\n\u001b[1;32m    106\u001b[0m \u001b[38;5;28;01mif\u001b[39;00m candidate[\u001b[38;5;241m1\u001b[39m] \u001b[38;5;241m<\u001b[39m min_oligos:\n\u001b[1;32m    107\u001b[0m     RG_dict[bc] \u001b[38;5;241m=\u001b[39m \u001b[38;5;124m\"\u001b[39m\u001b[38;5;124muncertain\u001b[39m\u001b[38;5;124m\"\u001b[39m\n",
      "\u001b[0;31mTypeError\u001b[0m: unsupported operand type(s) for +=: 'collections.defaultdict' and 'int'"
     ]
    }
   ],
   "source": [
    "from threshold_tag_and_split import *\n",
    "\n",
    "bamfile = \"/home/zyang4/chipdip-pipeline/scripts/python_bam/test_files/samp1dna_tagged.bam\"\n",
    "outbam = \"/home/zyang4/chipdip-pipeline/scripts/python_bam/test0513/sample1.DNA.merged.labeled.bam\"\n",
    "test_dir = \"/home/zyang4/chipdip-pipeline/scripts/python_bam/test0513/\"\n",
    "RG_dict = assign_labels(bamfile, 2, 0.8, 10000)\n",
    "label_bam_file(bamfile, outbam, RG_dict)\n",
    "split_bam_by_RG(outbam, test_dir)"
   ]
  }
 ],
 "metadata": {
  "kernelspec": {
   "display_name": "Python 3 (ipykernel)",
   "language": "python",
   "name": "python3"
  },
  "language_info": {
   "codemirror_mode": {
    "name": "ipython",
    "version": 3
   },
   "file_extension": ".py",
   "mimetype": "text/x-python",
   "name": "python",
   "nbconvert_exporter": "python",
   "pygments_lexer": "ipython3",
   "version": "3.10.14"
  }
 },
 "nbformat": 4,
 "nbformat_minor": 4
}
