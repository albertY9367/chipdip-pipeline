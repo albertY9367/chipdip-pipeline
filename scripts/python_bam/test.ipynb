{
 "cells": [
  {
   "cell_type": "code",
   "execution_count": 11,
   "metadata": {},
   "outputs": [
    {
     "name": "stdout",
     "output_type": "stream",
     "text": [
      "Total reads: 1244\n",
      "Reads written: 1187\n",
      "Duplicate reads: 57\n",
      "Reads with an error not written out: 0\n"
     ]
    },
    {
     "name": "stderr",
     "output_type": "stream",
     "text": [
      "[E::idx_find_and_load] Could not retrieve index file for 'samp1.bam'\n"
     ]
    }
   ],
   "source": [
    "import merge_bam\n",
    "import pysam\n",
    "\n",
    "in_file1 = \"/home/zyang4/chipdip-pipeline/workup/alignments/sample1.merged.BPM.bam\"\n",
    "in_file2 = \"/home/zyang4/chipdip-pipeline/workup/alignments/sample2.merged.BPM.bam\"\n",
    "in_file3 = \"/home/zyang4/chipdip-pipeline/workup/alignments/sample1.DNA.merged.bam\"\n",
    "in_file4 = \"/home/zyang4/chipdip-pipeline/workup/alignments/sample2.DNA.merged.bam\"\n",
    "outbam = \"samp1.bam\"\n",
    "\n",
    "pysam.merge(outbam, in_file1, in_file3)\n",
    "out_file = \"samp1_tagged.bam\"\n",
    "merge_bam.label_bam_file(outbam, out_file, 7)"
   ]
  },
  {
   "cell_type": "code",
   "execution_count": 4,
   "metadata": {},
   "outputs": [
    {
     "name": "stdout",
     "output_type": "stream",
     "text": [
      "in [DPMBot6_74-G2][OddBot_6-A6][EvenBot_21-B9][OddBot_40-D4][EvenBot_31-C7][OddBot_54-E6][NYStgBot_71-F11]_chr19:3321759-3322203::[DPMBot6_74-G2][NYStgBot_71-F11][OddBot_54-E6][EvenBot_31-C7][OddBot_40-D4][EvenBot_21-B9][OddBot_6-A6]\t0\t#18\t3321760\t42\t65M\t*\t0\t0\tAGGCCGCTGAGCCTCCTGGACAGACAGGGCACAGGGCCAATCCAGAGGGACGCAAAGCAGGACGC\tarray('B', [30, 30, 30, 30, 30, 30, 30, 30, 30, 30, 30, 30, 30, 30, 30, 30, 30, 30, 30, 30, 30, 30, 30, 30, 30, 30, 30, 30, 30, 30, 30, 30, 30, 30, 30, 30, 30, 30, 30, 30, 30, 30, 30, 30, 30, 30, 30, 30, 30, 30, 30, 30, 30, 30, 30, 30, 30, 30, 30, 30, 30, 30, 30, 30, 30])\t[('AS', 0), ('XN', 0), ('XM', 0), ('XO', 0), ('XG', 0), ('NM', 0), ('MD', '65'), ('YT', 'UU')]\n",
      "out @[BEAD_AB1-A1][OddBot_14-B2][EvenBot_7-A7][OddBot_44-D8][EvenBot_47-D11][OddBot_51-E3][NYStgBot_92-H8]_AAAACAAC::[BEAD_AB1-A1][NYStgBot_92-H8][OddBot_51-E3][EvenBot_47-D11][OddBot_44-D8][EvenBot_7-A7][OddBot_14-B2]\t0\t#0\t11112113\t0\t66M\t*\t0\t0\tAAAACAACCAAGTCAAATGGTCTGTTGCCGACAGTTGTCAGCAATTAGAGGTCCATCAAGTCAAGG\tNone\t[('RT', 'BEAD'), ('BC', 'NYStgBot_92-H8.OddBot_51-E3.EvenBot_47-D11.OddBot_44-D8.EvenBot_7-A7.OddBot_14-B2'), ('FC', 'BEAD_AB1-A1.NYStgBot_92-H8.OddBot_51-E3.EvenBot_47-D11.OddBot_44-D8.EvenBot_7-A7.OddBot_14-B2')]\n"
     ]
    },
    {
     "name": "stderr",
     "output_type": "stream",
     "text": [
      "[E::idx_find_and_load] Could not retrieve index file for '/home/zyang4/chipdip-pipeline/workup/alignments/sample1.DNA.merged.bam'\n",
      "[E::idx_find_and_load] Could not retrieve index file for 'samp2bpm.bam'\n"
     ]
    }
   ],
   "source": [
    "import pysam\n",
    "\n",
    "in_file = \"/home/zyang4/chipdip-pipeline/workup/alignments/sample1.DNA.merged.bam\"\n",
    "out_file = \"samp2bpm.bam\"\n",
    "\n",
    "with pysam.AlignmentFile(in_file, \"rb\") as inbam, \\\n",
    "    pysam.AlignmentFile(out_file, \"rb\") as outbam:\n",
    "\n",
    "    count1, count2 = 0, 0\n",
    "    for inread in inbam.fetch(until_eof=True):\n",
    "        print('in', inread)\n",
    "        count1 += 1\n",
    "        if count1 > 0:\n",
    "            break\n",
    "    for outread in outbam.fetch(until_eof=True):\n",
    "        print('out', outread)\n",
    "        count2 += 1\n",
    "        if count2 > 0:\n",
    "            break"
   ]
  },
  {
   "cell_type": "code",
   "execution_count": 1,
   "metadata": {},
   "outputs": [
    {
     "name": "stdout",
     "output_type": "stream",
     "text": [
      "For bamfile  master_tagged.bam\n",
      "Total number of clusters:  401\n",
      "Total number of BPM:  1461\n",
      "Total number of DPM:  985\n"
     ]
    }
   ],
   "source": [
    "import generate_cluster_statistics as gen\n",
    "\n",
    "gen.count_statistics(\"master_tagged.bam\")"
   ]
  },
  {
   "cell_type": "code",
   "execution_count": 2,
   "metadata": {},
   "outputs": [
    {
     "ename": "ModuleNotFoundError",
     "evalue": "No module named 'seaborn'",
     "output_type": "error",
     "traceback": [
      "\u001b[0;31m---------------------------------------------------------------------------\u001b[0m",
      "\u001b[0;31mModuleNotFoundError\u001b[0m                       Traceback (most recent call last)",
      "\u001b[0;32m/tmp/ipykernel_907582/968921073.py\u001b[0m in \u001b[0;36m<module>\u001b[0;34m\u001b[0m\n\u001b[0;32m----> 1\u001b[0;31m \u001b[0;32mimport\u001b[0m \u001b[0mmax_representation_ecdfs_perlib\u001b[0m \u001b[0;32mas\u001b[0m \u001b[0mmax_rep\u001b[0m\u001b[0;34m\u001b[0m\u001b[0;34m\u001b[0m\u001b[0m\n\u001b[0m\u001b[1;32m      2\u001b[0m \u001b[0;34m\u001b[0m\u001b[0m\n\u001b[1;32m      3\u001b[0m \u001b[0mecdf_plot_ax\u001b[0m \u001b[0;34m=\u001b[0m \u001b[0;34m\"None\"\u001b[0m\u001b[0;34m\u001b[0m\u001b[0;34m\u001b[0m\u001b[0m\n\u001b[1;32m      4\u001b[0m \u001b[0mecdf_plot_ax\u001b[0m \u001b[0;34m=\u001b[0m \u001b[0mmax_representation_ecdf\u001b[0m\u001b[0;34m(\u001b[0m\u001b[0;34m\"master_tagged.bam\"\u001b[0m\u001b[0;34m,\u001b[0m \u001b[0mecdf_plot_ax\u001b[0m\u001b[0;34m)\u001b[0m\u001b[0;34m\u001b[0m\u001b[0;34m\u001b[0m\u001b[0m\n\u001b[1;32m      5\u001b[0m \u001b[0mecdf_plot_fig\u001b[0m \u001b[0;34m=\u001b[0m \u001b[0mecdf_plot_ax\u001b[0m\u001b[0;34m.\u001b[0m\u001b[0mget_figure\u001b[0m\u001b[0;34m(\u001b[0m\u001b[0;34m)\u001b[0m\u001b[0;34m\u001b[0m\u001b[0;34m\u001b[0m\u001b[0m\n",
      "\u001b[0;32m/central/home/zyang4/chipdip-pipeline/scripts/python_bam/max_representation_ecdfs_perlib.py\u001b[0m in \u001b[0;36m<module>\u001b[0;34m\u001b[0m\n\u001b[1;32m      1\u001b[0m \u001b[0;32mfrom\u001b[0m \u001b[0mcollections\u001b[0m \u001b[0;32mimport\u001b[0m \u001b[0mCounter\u001b[0m\u001b[0;34m\u001b[0m\u001b[0;34m\u001b[0m\u001b[0m\n\u001b[0;32m----> 2\u001b[0;31m \u001b[0;32mimport\u001b[0m \u001b[0mseaborn\u001b[0m \u001b[0;32mas\u001b[0m \u001b[0msns\u001b[0m\u001b[0;34m\u001b[0m\u001b[0;34m\u001b[0m\u001b[0m\n\u001b[0m\u001b[1;32m      3\u001b[0m \u001b[0;32mimport\u001b[0m \u001b[0mmatplotlib\u001b[0m\u001b[0;34m.\u001b[0m\u001b[0mpyplot\u001b[0m \u001b[0;32mas\u001b[0m \u001b[0mplt\u001b[0m\u001b[0;34m\u001b[0m\u001b[0;34m\u001b[0m\u001b[0m\n\u001b[1;32m      4\u001b[0m \u001b[0;32mimport\u001b[0m \u001b[0mmatplotlib\u001b[0m \u001b[0;32mas\u001b[0m \u001b[0mmpl\u001b[0m\u001b[0;34m\u001b[0m\u001b[0;34m\u001b[0m\u001b[0m\n\u001b[1;32m      5\u001b[0m \u001b[0;32mimport\u001b[0m \u001b[0mpysam\u001b[0m\u001b[0;34m\u001b[0m\u001b[0;34m\u001b[0m\u001b[0m\n",
      "\u001b[0;31mModuleNotFoundError\u001b[0m: No module named 'seaborn'"
     ]
    }
   ],
   "source": [
    "import max_representation_ecdfs_perlib as max_rep\n",
    "\n",
    "ecdf_plot_ax = \"None\"\n",
    "ecdf_plot_ax = max_representation_ecdf(\"master_tagged.bam\", ecdf_plot_ax)\n",
    "ecdf_plot_fig = ecdf_plot_ax.get_figure()\n",
    "ecdf_plot_fig.savefig(\n",
    "    \"Max_representation_ecdf.pdf\", bbox_inches=\"tight\"\n",
    ")\n",
    "ecdf_counts_ax = \"None\"\n",
    "ecdf_counts_ax = max_representation_ecdf_counts(\"master_tagged.bam\", ecdf_counts_ax, 30)\n",
    "ecdf_counts_fig = ecdf_counts_ax.get_figure()\n",
    "ecdf_counts_fig.savefig(\n",
    "    \"Max_representation_counts.pdf\", bbox_inches=\"tight\"\n",
    ")"
   ]
  },
  {
   "cell_type": "code",
   "execution_count": null,
   "metadata": {},
   "outputs": [],
   "source": []
  }
 ],
 "metadata": {
  "kernelspec": {
   "display_name": "general",
   "language": "python",
   "name": "general"
  },
  "language_info": {
   "codemirror_mode": {
    "name": "ipython",
    "version": 3
   },
   "file_extension": ".py",
   "mimetype": "text/x-python",
   "name": "python",
   "nbconvert_exporter": "python",
   "pygments_lexer": "ipython3",
   "version": "3.7.12"
  }
 },
 "nbformat": 4,
 "nbformat_minor": 4
}
